{
  "nbformat": 4,
  "nbformat_minor": 0,
  "metadata": {
    "colab": {
      "provenance": [],
      "authorship_tag": "ABX9TyNXDdS7dLZYp3UIDnjQHUNi",
      "include_colab_link": true
    },
    "kernelspec": {
      "name": "python3",
      "display_name": "Python 3"
    },
    "language_info": {
      "name": "python"
    }
  },
  "cells": [
    {
      "cell_type": "markdown",
      "metadata": {
        "id": "view-in-github",
        "colab_type": "text"
      },
      "source": [
        "<a href=\"https://colab.research.google.com/github/poojitha2730/Uber-Data-Analysis/blob/main/Uber_Data_Analysis.ipynb\" target=\"_parent\"><img src=\"https://colab.research.google.com/assets/colab-badge.svg\" alt=\"Open In Colab\"/></a>"
      ]
    },
    {
      "cell_type": "markdown",
      "source": [
        "# UBER DATA ANALYSIS"
      ],
      "metadata": {
        "id": "ahAukaaHi7PB"
      }
    },
    {
      "cell_type": "markdown",
      "source": [
        "![th.jpeg](data:image/jpeg;base64,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)"
      ],
      "metadata": {
        "id": "vyN3Kw88BVuc"
      }
    },
    {
      "cell_type": "markdown",
      "source": [
        "Importing necessary libraries"
      ],
      "metadata": {
        "id": "2Pb0-W4avb3l"
      }
    },
    {
      "cell_type": "code",
      "source": [
        "import pandas as pd\n",
        "import numpy as np\n",
        "import matplotlib.pyplot as plt\n",
        "import seaborn as sns\n",
        "from sklearn import svm\n"
      ],
      "metadata": {
        "id": "mdNkdzu3vUqI"
      },
      "execution_count": 42,
      "outputs": []
    },
    {
      "cell_type": "markdown",
      "source": [
        "# Setting path for dataset"
      ],
      "metadata": {
        "id": "e0sdaPwPvi0P"
      }
    },
    {
      "cell_type": "code",
      "source": [
        "df = pd.read_csv(\"/content/UberDataset.csv\")"
      ],
      "metadata": {
        "id": "ZY3CL86kvUsZ"
      },
      "execution_count": 43,
      "outputs": []
    },
    {
      "cell_type": "markdown",
      "source": [
        "Definition and Usage of \"head()\": Returns the header row and the first 10 rows, or the specified number of rows"
      ],
      "metadata": {
        "id": "FK8kTKRXvovA"
      }
    },
    {
      "cell_type": "code",
      "source": [
        "df.head(30)"
      ],
      "metadata": {
        "id": "URLe14UpvUu4",
        "colab": {
          "base_uri": "https://localhost:8080/",
          "height": 990
        },
        "outputId": "071a23cc-0323-4554-c4dc-fbfcf4c9344f"
      },
      "execution_count": 44,
      "outputs": [
        {
          "output_type": "execute_result",
          "data": {
            "text/plain": [
              "          START_DATE          END_DATE  CATEGORY              START  \\\n",
              "0   01-01-2016 21:11  01-01-2016 21:17  Business        Fort Pierce   \n",
              "1   01-02-2016 01:25  01-02-2016 01:37  Business        Fort Pierce   \n",
              "2   01-02-2016 20:25  01-02-2016 20:38  Business        Fort Pierce   \n",
              "3   01-05-2016 17:31  01-05-2016 17:45  Business        Fort Pierce   \n",
              "4   01-06-2016 14:42  01-06-2016 15:49  Business        Fort Pierce   \n",
              "5   01-06-2016 17:15  01-06-2016 17:19  Business    West Palm Beach   \n",
              "6   01-06-2016 17:30  01-06-2016 17:35  Business    West Palm Beach   \n",
              "7   01-07-2016 13:27  01-07-2016 13:33  Business               Cary   \n",
              "8   01-10-2016 08:05  01-10-2016 08:25  Business               Cary   \n",
              "9   01-10-2016 12:17  01-10-2016 12:44  Business            Jamaica   \n",
              "10  01-10-2016 15:08  01-10-2016 15:51  Business           New York   \n",
              "11  01-10-2016 18:18  01-10-2016 18:53  Business           Elmhurst   \n",
              "12  01-10-2016 19:12  01-10-2016 19:32  Business            Midtown   \n",
              "13  01-11-2016 08:55  01-11-2016 09:21  Business        East Harlem   \n",
              "14  01-11-2016 11:56  01-11-2016 12:03  Business  Flatiron District   \n",
              "15  01-11-2016 13:32  01-11-2016 13:46  Business            Midtown   \n",
              "16  01-11-2016 14:30  01-11-2016 14:43  Business       Midtown East   \n",
              "17  01-12-2016 12:33  01-12-2016 12:49  Business            Midtown   \n",
              "18  01-12-2016 12:53  01-12-2016 13:09  Business      Hudson Square   \n",
              "19  01-12-2016 14:42  01-12-2016 14:56  Business    Lower Manhattan   \n",
              "20  01-12-2016 15:13  01-12-2016 15:28  Business      Hudson Square   \n",
              "21  01-12-2016 15:42  01-12-2016 15:54  Business     Hell's Kitchen   \n",
              "22  01-12-2016 16:02  01-12-2016 17:00  Business           New York   \n",
              "23   1/13/2016 13:54   1/13/2016 14:07  Business           Downtown   \n",
              "24   1/13/2016 15:00   1/13/2016 15:28  Business            Gulfton   \n",
              "25   1/14/2016 16:29   1/14/2016 17:05  Business            Houston   \n",
              "26   1/14/2016 21:39   1/14/2016 21:45  Business         Eagan Park   \n",
              "27    1/15/2016 0:41    1/15/2016 1:01  Business        Morrisville   \n",
              "28   1/15/2016 11:43   1/15/2016 12:03  Business               Cary   \n",
              "29   1/15/2016 13:26   1/15/2016 13:44  Business             Durham   \n",
              "\n",
              "               STOP  MILES          PURPOSE  \n",
              "0       Fort Pierce    5.1   Meal/Entertain  \n",
              "1       Fort Pierce    5.0              NaN  \n",
              "2       Fort Pierce    4.8  Errand/Supplies  \n",
              "3       Fort Pierce    4.7          Meeting  \n",
              "4   West Palm Beach   63.7   Customer Visit  \n",
              "5   West Palm Beach    4.3   Meal/Entertain  \n",
              "6        Palm Beach    7.1          Meeting  \n",
              "7              Cary    0.8          Meeting  \n",
              "8       Morrisville    8.3          Meeting  \n",
              "9          New York   16.5   Customer Visit  \n",
              "10           Queens   10.8          Meeting  \n",
              "11         New York    7.5          Meeting  \n",
              "12      East Harlem    6.2          Meeting  \n",
              "13            NoMad    6.4   Temporary Site  \n",
              "14          Midtown    1.6  Errand/Supplies  \n",
              "15     Midtown East    1.7   Meal/Entertain  \n",
              "16          Midtown    1.9   Meal/Entertain  \n",
              "17    Hudson Square    1.9   Meal/Entertain  \n",
              "18  Lower Manhattan    4.0   Meal/Entertain  \n",
              "19    Hudson Square    1.8  Errand/Supplies  \n",
              "20   Hell's Kitchen    2.4   Customer Visit  \n",
              "21          Midtown    2.0  Errand/Supplies  \n",
              "22    Queens County   15.1          Meeting  \n",
              "23          Gulfton   11.2          Meeting  \n",
              "24         Downtown   11.8          Meeting  \n",
              "25          Houston   21.9   Customer Visit  \n",
              "26  Jamestown Court    3.9  Errand/Supplies  \n",
              "27             Cary    8.0  Errand/Supplies  \n",
              "28           Durham   10.4   Meal/Entertain  \n",
              "29             Cary   10.4   Meal/Entertain  "
            ],
            "text/html": [
              "\n",
              "  <div id=\"df-345a5d28-50ba-460f-a781-da8cf446418f\" class=\"colab-df-container\">\n",
              "    <div>\n",
              "<style scoped>\n",
              "    .dataframe tbody tr th:only-of-type {\n",
              "        vertical-align: middle;\n",
              "    }\n",
              "\n",
              "    .dataframe tbody tr th {\n",
              "        vertical-align: top;\n",
              "    }\n",
              "\n",
              "    .dataframe thead th {\n",
              "        text-align: right;\n",
              "    }\n",
              "</style>\n",
              "<table border=\"1\" class=\"dataframe\">\n",
              "  <thead>\n",
              "    <tr style=\"text-align: right;\">\n",
              "      <th></th>\n",
              "      <th>START_DATE</th>\n",
              "      <th>END_DATE</th>\n",
              "      <th>CATEGORY</th>\n",
              "      <th>START</th>\n",
              "      <th>STOP</th>\n",
              "      <th>MILES</th>\n",
              "      <th>PURPOSE</th>\n",
              "    </tr>\n",
              "  </thead>\n",
              "  <tbody>\n",
              "    <tr>\n",
              "      <th>0</th>\n",
              "      <td>01-01-2016 21:11</td>\n",
              "      <td>01-01-2016 21:17</td>\n",
              "      <td>Business</td>\n",
              "      <td>Fort Pierce</td>\n",
              "      <td>Fort Pierce</td>\n",
              "      <td>5.1</td>\n",
              "      <td>Meal/Entertain</td>\n",
              "    </tr>\n",
              "    <tr>\n",
              "      <th>1</th>\n",
              "      <td>01-02-2016 01:25</td>\n",
              "      <td>01-02-2016 01:37</td>\n",
              "      <td>Business</td>\n",
              "      <td>Fort Pierce</td>\n",
              "      <td>Fort Pierce</td>\n",
              "      <td>5.0</td>\n",
              "      <td>NaN</td>\n",
              "    </tr>\n",
              "    <tr>\n",
              "      <th>2</th>\n",
              "      <td>01-02-2016 20:25</td>\n",
              "      <td>01-02-2016 20:38</td>\n",
              "      <td>Business</td>\n",
              "      <td>Fort Pierce</td>\n",
              "      <td>Fort Pierce</td>\n",
              "      <td>4.8</td>\n",
              "      <td>Errand/Supplies</td>\n",
              "    </tr>\n",
              "    <tr>\n",
              "      <th>3</th>\n",
              "      <td>01-05-2016 17:31</td>\n",
              "      <td>01-05-2016 17:45</td>\n",
              "      <td>Business</td>\n",
              "      <td>Fort Pierce</td>\n",
              "      <td>Fort Pierce</td>\n",
              "      <td>4.7</td>\n",
              "      <td>Meeting</td>\n",
              "    </tr>\n",
              "    <tr>\n",
              "      <th>4</th>\n",
              "      <td>01-06-2016 14:42</td>\n",
              "      <td>01-06-2016 15:49</td>\n",
              "      <td>Business</td>\n",
              "      <td>Fort Pierce</td>\n",
              "      <td>West Palm Beach</td>\n",
              "      <td>63.7</td>\n",
              "      <td>Customer Visit</td>\n",
              "    </tr>\n",
              "    <tr>\n",
              "      <th>5</th>\n",
              "      <td>01-06-2016 17:15</td>\n",
              "      <td>01-06-2016 17:19</td>\n",
              "      <td>Business</td>\n",
              "      <td>West Palm Beach</td>\n",
              "      <td>West Palm Beach</td>\n",
              "      <td>4.3</td>\n",
              "      <td>Meal/Entertain</td>\n",
              "    </tr>\n",
              "    <tr>\n",
              "      <th>6</th>\n",
              "      <td>01-06-2016 17:30</td>\n",
              "      <td>01-06-2016 17:35</td>\n",
              "      <td>Business</td>\n",
              "      <td>West Palm Beach</td>\n",
              "      <td>Palm Beach</td>\n",
              "      <td>7.1</td>\n",
              "      <td>Meeting</td>\n",
              "    </tr>\n",
              "    <tr>\n",
              "      <th>7</th>\n",
              "      <td>01-07-2016 13:27</td>\n",
              "      <td>01-07-2016 13:33</td>\n",
              "      <td>Business</td>\n",
              "      <td>Cary</td>\n",
              "      <td>Cary</td>\n",
              "      <td>0.8</td>\n",
              "      <td>Meeting</td>\n",
              "    </tr>\n",
              "    <tr>\n",
              "      <th>8</th>\n",
              "      <td>01-10-2016 08:05</td>\n",
              "      <td>01-10-2016 08:25</td>\n",
              "      <td>Business</td>\n",
              "      <td>Cary</td>\n",
              "      <td>Morrisville</td>\n",
              "      <td>8.3</td>\n",
              "      <td>Meeting</td>\n",
              "    </tr>\n",
              "    <tr>\n",
              "      <th>9</th>\n",
              "      <td>01-10-2016 12:17</td>\n",
              "      <td>01-10-2016 12:44</td>\n",
              "      <td>Business</td>\n",
              "      <td>Jamaica</td>\n",
              "      <td>New York</td>\n",
              "      <td>16.5</td>\n",
              "      <td>Customer Visit</td>\n",
              "    </tr>\n",
              "    <tr>\n",
              "      <th>10</th>\n",
              "      <td>01-10-2016 15:08</td>\n",
              "      <td>01-10-2016 15:51</td>\n",
              "      <td>Business</td>\n",
              "      <td>New York</td>\n",
              "      <td>Queens</td>\n",
              "      <td>10.8</td>\n",
              "      <td>Meeting</td>\n",
              "    </tr>\n",
              "    <tr>\n",
              "      <th>11</th>\n",
              "      <td>01-10-2016 18:18</td>\n",
              "      <td>01-10-2016 18:53</td>\n",
              "      <td>Business</td>\n",
              "      <td>Elmhurst</td>\n",
              "      <td>New York</td>\n",
              "      <td>7.5</td>\n",
              "      <td>Meeting</td>\n",
              "    </tr>\n",
              "    <tr>\n",
              "      <th>12</th>\n",
              "      <td>01-10-2016 19:12</td>\n",
              "      <td>01-10-2016 19:32</td>\n",
              "      <td>Business</td>\n",
              "      <td>Midtown</td>\n",
              "      <td>East Harlem</td>\n",
              "      <td>6.2</td>\n",
              "      <td>Meeting</td>\n",
              "    </tr>\n",
              "    <tr>\n",
              "      <th>13</th>\n",
              "      <td>01-11-2016 08:55</td>\n",
              "      <td>01-11-2016 09:21</td>\n",
              "      <td>Business</td>\n",
              "      <td>East Harlem</td>\n",
              "      <td>NoMad</td>\n",
              "      <td>6.4</td>\n",
              "      <td>Temporary Site</td>\n",
              "    </tr>\n",
              "    <tr>\n",
              "      <th>14</th>\n",
              "      <td>01-11-2016 11:56</td>\n",
              "      <td>01-11-2016 12:03</td>\n",
              "      <td>Business</td>\n",
              "      <td>Flatiron District</td>\n",
              "      <td>Midtown</td>\n",
              "      <td>1.6</td>\n",
              "      <td>Errand/Supplies</td>\n",
              "    </tr>\n",
              "    <tr>\n",
              "      <th>15</th>\n",
              "      <td>01-11-2016 13:32</td>\n",
              "      <td>01-11-2016 13:46</td>\n",
              "      <td>Business</td>\n",
              "      <td>Midtown</td>\n",
              "      <td>Midtown East</td>\n",
              "      <td>1.7</td>\n",
              "      <td>Meal/Entertain</td>\n",
              "    </tr>\n",
              "    <tr>\n",
              "      <th>16</th>\n",
              "      <td>01-11-2016 14:30</td>\n",
              "      <td>01-11-2016 14:43</td>\n",
              "      <td>Business</td>\n",
              "      <td>Midtown East</td>\n",
              "      <td>Midtown</td>\n",
              "      <td>1.9</td>\n",
              "      <td>Meal/Entertain</td>\n",
              "    </tr>\n",
              "    <tr>\n",
              "      <th>17</th>\n",
              "      <td>01-12-2016 12:33</td>\n",
              "      <td>01-12-2016 12:49</td>\n",
              "      <td>Business</td>\n",
              "      <td>Midtown</td>\n",
              "      <td>Hudson Square</td>\n",
              "      <td>1.9</td>\n",
              "      <td>Meal/Entertain</td>\n",
              "    </tr>\n",
              "    <tr>\n",
              "      <th>18</th>\n",
              "      <td>01-12-2016 12:53</td>\n",
              "      <td>01-12-2016 13:09</td>\n",
              "      <td>Business</td>\n",
              "      <td>Hudson Square</td>\n",
              "      <td>Lower Manhattan</td>\n",
              "      <td>4.0</td>\n",
              "      <td>Meal/Entertain</td>\n",
              "    </tr>\n",
              "    <tr>\n",
              "      <th>19</th>\n",
              "      <td>01-12-2016 14:42</td>\n",
              "      <td>01-12-2016 14:56</td>\n",
              "      <td>Business</td>\n",
              "      <td>Lower Manhattan</td>\n",
              "      <td>Hudson Square</td>\n",
              "      <td>1.8</td>\n",
              "      <td>Errand/Supplies</td>\n",
              "    </tr>\n",
              "    <tr>\n",
              "      <th>20</th>\n",
              "      <td>01-12-2016 15:13</td>\n",
              "      <td>01-12-2016 15:28</td>\n",
              "      <td>Business</td>\n",
              "      <td>Hudson Square</td>\n",
              "      <td>Hell's Kitchen</td>\n",
              "      <td>2.4</td>\n",
              "      <td>Customer Visit</td>\n",
              "    </tr>\n",
              "    <tr>\n",
              "      <th>21</th>\n",
              "      <td>01-12-2016 15:42</td>\n",
              "      <td>01-12-2016 15:54</td>\n",
              "      <td>Business</td>\n",
              "      <td>Hell's Kitchen</td>\n",
              "      <td>Midtown</td>\n",
              "      <td>2.0</td>\n",
              "      <td>Errand/Supplies</td>\n",
              "    </tr>\n",
              "    <tr>\n",
              "      <th>22</th>\n",
              "      <td>01-12-2016 16:02</td>\n",
              "      <td>01-12-2016 17:00</td>\n",
              "      <td>Business</td>\n",
              "      <td>New York</td>\n",
              "      <td>Queens County</td>\n",
              "      <td>15.1</td>\n",
              "      <td>Meeting</td>\n",
              "    </tr>\n",
              "    <tr>\n",
              "      <th>23</th>\n",
              "      <td>1/13/2016 13:54</td>\n",
              "      <td>1/13/2016 14:07</td>\n",
              "      <td>Business</td>\n",
              "      <td>Downtown</td>\n",
              "      <td>Gulfton</td>\n",
              "      <td>11.2</td>\n",
              "      <td>Meeting</td>\n",
              "    </tr>\n",
              "    <tr>\n",
              "      <th>24</th>\n",
              "      <td>1/13/2016 15:00</td>\n",
              "      <td>1/13/2016 15:28</td>\n",
              "      <td>Business</td>\n",
              "      <td>Gulfton</td>\n",
              "      <td>Downtown</td>\n",
              "      <td>11.8</td>\n",
              "      <td>Meeting</td>\n",
              "    </tr>\n",
              "    <tr>\n",
              "      <th>25</th>\n",
              "      <td>1/14/2016 16:29</td>\n",
              "      <td>1/14/2016 17:05</td>\n",
              "      <td>Business</td>\n",
              "      <td>Houston</td>\n",
              "      <td>Houston</td>\n",
              "      <td>21.9</td>\n",
              "      <td>Customer Visit</td>\n",
              "    </tr>\n",
              "    <tr>\n",
              "      <th>26</th>\n",
              "      <td>1/14/2016 21:39</td>\n",
              "      <td>1/14/2016 21:45</td>\n",
              "      <td>Business</td>\n",
              "      <td>Eagan Park</td>\n",
              "      <td>Jamestown Court</td>\n",
              "      <td>3.9</td>\n",
              "      <td>Errand/Supplies</td>\n",
              "    </tr>\n",
              "    <tr>\n",
              "      <th>27</th>\n",
              "      <td>1/15/2016 0:41</td>\n",
              "      <td>1/15/2016 1:01</td>\n",
              "      <td>Business</td>\n",
              "      <td>Morrisville</td>\n",
              "      <td>Cary</td>\n",
              "      <td>8.0</td>\n",
              "      <td>Errand/Supplies</td>\n",
              "    </tr>\n",
              "    <tr>\n",
              "      <th>28</th>\n",
              "      <td>1/15/2016 11:43</td>\n",
              "      <td>1/15/2016 12:03</td>\n",
              "      <td>Business</td>\n",
              "      <td>Cary</td>\n",
              "      <td>Durham</td>\n",
              "      <td>10.4</td>\n",
              "      <td>Meal/Entertain</td>\n",
              "    </tr>\n",
              "    <tr>\n",
              "      <th>29</th>\n",
              "      <td>1/15/2016 13:26</td>\n",
              "      <td>1/15/2016 13:44</td>\n",
              "      <td>Business</td>\n",
              "      <td>Durham</td>\n",
              "      <td>Cary</td>\n",
              "      <td>10.4</td>\n",
              "      <td>Meal/Entertain</td>\n",
              "    </tr>\n",
              "  </tbody>\n",
              "</table>\n",
              "</div>\n",
              "    <div class=\"colab-df-buttons\">\n",
              "\n",
              "  <div class=\"colab-df-container\">\n",
              "    <button class=\"colab-df-convert\" onclick=\"convertToInteractive('df-345a5d28-50ba-460f-a781-da8cf446418f')\"\n",
              "            title=\"Convert this dataframe to an interactive table.\"\n",
              "            style=\"display:none;\">\n",
              "\n",
              "  <svg xmlns=\"http://www.w3.org/2000/svg\" height=\"24px\" viewBox=\"0 -960 960 960\">\n",
              "    <path d=\"M120-120v-720h720v720H120Zm60-500h600v-160H180v160Zm220 220h160v-160H400v160Zm0 220h160v-160H400v160ZM180-400h160v-160H180v160Zm440 0h160v-160H620v160ZM180-180h160v-160H180v160Zm440 0h160v-160H620v160Z\"/>\n",
              "  </svg>\n",
              "    </button>\n",
              "\n",
              "  <style>\n",
              "    .colab-df-container {\n",
              "      display:flex;\n",
              "      gap: 12px;\n",
              "    }\n",
              "\n",
              "    .colab-df-convert {\n",
              "      background-color: #E8F0FE;\n",
              "      border: none;\n",
              "      border-radius: 50%;\n",
              "      cursor: pointer;\n",
              "      display: none;\n",
              "      fill: #1967D2;\n",
              "      height: 32px;\n",
              "      padding: 0 0 0 0;\n",
              "      width: 32px;\n",
              "    }\n",
              "\n",
              "    .colab-df-convert:hover {\n",
              "      background-color: #E2EBFA;\n",
              "      box-shadow: 0px 1px 2px rgba(60, 64, 67, 0.3), 0px 1px 3px 1px rgba(60, 64, 67, 0.15);\n",
              "      fill: #174EA6;\n",
              "    }\n",
              "\n",
              "    .colab-df-buttons div {\n",
              "      margin-bottom: 4px;\n",
              "    }\n",
              "\n",
              "    [theme=dark] .colab-df-convert {\n",
              "      background-color: #3B4455;\n",
              "      fill: #D2E3FC;\n",
              "    }\n",
              "\n",
              "    [theme=dark] .colab-df-convert:hover {\n",
              "      background-color: #434B5C;\n",
              "      box-shadow: 0px 1px 3px 1px rgba(0, 0, 0, 0.15);\n",
              "      filter: drop-shadow(0px 1px 2px rgba(0, 0, 0, 0.3));\n",
              "      fill: #FFFFFF;\n",
              "    }\n",
              "  </style>\n",
              "\n",
              "    <script>\n",
              "      const buttonEl =\n",
              "        document.querySelector('#df-345a5d28-50ba-460f-a781-da8cf446418f button.colab-df-convert');\n",
              "      buttonEl.style.display =\n",
              "        google.colab.kernel.accessAllowed ? 'block' : 'none';\n",
              "\n",
              "      async function convertToInteractive(key) {\n",
              "        const element = document.querySelector('#df-345a5d28-50ba-460f-a781-da8cf446418f');\n",
              "        const dataTable =\n",
              "          await google.colab.kernel.invokeFunction('convertToInteractive',\n",
              "                                                    [key], {});\n",
              "        if (!dataTable) return;\n",
              "\n",
              "        const docLinkHtml = 'Like what you see? Visit the ' +\n",
              "          '<a target=\"_blank\" href=https://colab.research.google.com/notebooks/data_table.ipynb>data table notebook</a>'\n",
              "          + ' to learn more about interactive tables.';\n",
              "        element.innerHTML = '';\n",
              "        dataTable['output_type'] = 'display_data';\n",
              "        await google.colab.output.renderOutput(dataTable, element);\n",
              "        const docLink = document.createElement('div');\n",
              "        docLink.innerHTML = docLinkHtml;\n",
              "        element.appendChild(docLink);\n",
              "      }\n",
              "    </script>\n",
              "  </div>\n",
              "\n",
              "\n",
              "<div id=\"df-e7622b5d-8f86-412e-a73f-d78723ebc589\">\n",
              "  <button class=\"colab-df-quickchart\" onclick=\"quickchart('df-e7622b5d-8f86-412e-a73f-d78723ebc589')\"\n",
              "            title=\"Suggest charts.\"\n",
              "            style=\"display:none;\">\n",
              "\n",
              "<svg xmlns=\"http://www.w3.org/2000/svg\" height=\"24px\"viewBox=\"0 0 24 24\"\n",
              "     width=\"24px\">\n",
              "    <g>\n",
              "        <path d=\"M19 3H5c-1.1 0-2 .9-2 2v14c0 1.1.9 2 2 2h14c1.1 0 2-.9 2-2V5c0-1.1-.9-2-2-2zM9 17H7v-7h2v7zm4 0h-2V7h2v10zm4 0h-2v-4h2v4z\"/>\n",
              "    </g>\n",
              "</svg>\n",
              "  </button>\n",
              "\n",
              "<style>\n",
              "  .colab-df-quickchart {\n",
              "    background-color: #E8F0FE;\n",
              "    border: none;\n",
              "    border-radius: 50%;\n",
              "    cursor: pointer;\n",
              "    display: none;\n",
              "    fill: #1967D2;\n",
              "    height: 32px;\n",
              "    padding: 0 0 0 0;\n",
              "    width: 32px;\n",
              "  }\n",
              "\n",
              "  .colab-df-quickchart:hover {\n",
              "    background-color: #E2EBFA;\n",
              "    box-shadow: 0px 1px 2px rgba(60, 64, 67, 0.3), 0px 1px 3px 1px rgba(60, 64, 67, 0.15);\n",
              "    fill: #174EA6;\n",
              "  }\n",
              "\n",
              "  [theme=dark] .colab-df-quickchart {\n",
              "    background-color: #3B4455;\n",
              "    fill: #D2E3FC;\n",
              "  }\n",
              "\n",
              "  [theme=dark] .colab-df-quickchart:hover {\n",
              "    background-color: #434B5C;\n",
              "    box-shadow: 0px 1px 3px 1px rgba(0, 0, 0, 0.15);\n",
              "    filter: drop-shadow(0px 1px 2px rgba(0, 0, 0, 0.3));\n",
              "    fill: #FFFFFF;\n",
              "  }\n",
              "</style>\n",
              "\n",
              "  <script>\n",
              "    async function quickchart(key) {\n",
              "      const charts = await google.colab.kernel.invokeFunction(\n",
              "          'suggestCharts', [key], {});\n",
              "    }\n",
              "    (() => {\n",
              "      let quickchartButtonEl =\n",
              "        document.querySelector('#df-e7622b5d-8f86-412e-a73f-d78723ebc589 button');\n",
              "      quickchartButtonEl.style.display =\n",
              "        google.colab.kernel.accessAllowed ? 'block' : 'none';\n",
              "    })();\n",
              "  </script>\n",
              "</div>\n",
              "    </div>\n",
              "  </div>\n"
            ]
          },
          "metadata": {},
          "execution_count": 44
        }
      ]
    },
    {
      "cell_type": "markdown",
      "source": [
        "usage of \"describe()\": Returns a description summary for each column in the DataFrame"
      ],
      "metadata": {
        "id": "oj3uvp_OvwDX"
      }
    },
    {
      "cell_type": "code",
      "source": [
        "df.describe()"
      ],
      "metadata": {
        "id": "0g2bUHuwvUxs",
        "colab": {
          "base_uri": "https://localhost:8080/",
          "height": 300
        },
        "outputId": "095a70b6-6a10-47dc-c38e-493ec2653a3c"
      },
      "execution_count": 45,
      "outputs": [
        {
          "output_type": "execute_result",
          "data": {
            "text/plain": [
              "              MILES\n",
              "count   1156.000000\n",
              "mean      21.115398\n",
              "std      359.299007\n",
              "min        0.500000\n",
              "25%        2.900000\n",
              "50%        6.000000\n",
              "75%       10.400000\n",
              "max    12204.700000"
            ],
            "text/html": [
              "\n",
              "  <div id=\"df-3b13cd4a-adbb-4923-ad25-2d017828e275\" class=\"colab-df-container\">\n",
              "    <div>\n",
              "<style scoped>\n",
              "    .dataframe tbody tr th:only-of-type {\n",
              "        vertical-align: middle;\n",
              "    }\n",
              "\n",
              "    .dataframe tbody tr th {\n",
              "        vertical-align: top;\n",
              "    }\n",
              "\n",
              "    .dataframe thead th {\n",
              "        text-align: right;\n",
              "    }\n",
              "</style>\n",
              "<table border=\"1\" class=\"dataframe\">\n",
              "  <thead>\n",
              "    <tr style=\"text-align: right;\">\n",
              "      <th></th>\n",
              "      <th>MILES</th>\n",
              "    </tr>\n",
              "  </thead>\n",
              "  <tbody>\n",
              "    <tr>\n",
              "      <th>count</th>\n",
              "      <td>1156.000000</td>\n",
              "    </tr>\n",
              "    <tr>\n",
              "      <th>mean</th>\n",
              "      <td>21.115398</td>\n",
              "    </tr>\n",
              "    <tr>\n",
              "      <th>std</th>\n",
              "      <td>359.299007</td>\n",
              "    </tr>\n",
              "    <tr>\n",
              "      <th>min</th>\n",
              "      <td>0.500000</td>\n",
              "    </tr>\n",
              "    <tr>\n",
              "      <th>25%</th>\n",
              "      <td>2.900000</td>\n",
              "    </tr>\n",
              "    <tr>\n",
              "      <th>50%</th>\n",
              "      <td>6.000000</td>\n",
              "    </tr>\n",
              "    <tr>\n",
              "      <th>75%</th>\n",
              "      <td>10.400000</td>\n",
              "    </tr>\n",
              "    <tr>\n",
              "      <th>max</th>\n",
              "      <td>12204.700000</td>\n",
              "    </tr>\n",
              "  </tbody>\n",
              "</table>\n",
              "</div>\n",
              "    <div class=\"colab-df-buttons\">\n",
              "\n",
              "  <div class=\"colab-df-container\">\n",
              "    <button class=\"colab-df-convert\" onclick=\"convertToInteractive('df-3b13cd4a-adbb-4923-ad25-2d017828e275')\"\n",
              "            title=\"Convert this dataframe to an interactive table.\"\n",
              "            style=\"display:none;\">\n",
              "\n",
              "  <svg xmlns=\"http://www.w3.org/2000/svg\" height=\"24px\" viewBox=\"0 -960 960 960\">\n",
              "    <path d=\"M120-120v-720h720v720H120Zm60-500h600v-160H180v160Zm220 220h160v-160H400v160Zm0 220h160v-160H400v160ZM180-400h160v-160H180v160Zm440 0h160v-160H620v160ZM180-180h160v-160H180v160Zm440 0h160v-160H620v160Z\"/>\n",
              "  </svg>\n",
              "    </button>\n",
              "\n",
              "  <style>\n",
              "    .colab-df-container {\n",
              "      display:flex;\n",
              "      gap: 12px;\n",
              "    }\n",
              "\n",
              "    .colab-df-convert {\n",
              "      background-color: #E8F0FE;\n",
              "      border: none;\n",
              "      border-radius: 50%;\n",
              "      cursor: pointer;\n",
              "      display: none;\n",
              "      fill: #1967D2;\n",
              "      height: 32px;\n",
              "      padding: 0 0 0 0;\n",
              "      width: 32px;\n",
              "    }\n",
              "\n",
              "    .colab-df-convert:hover {\n",
              "      background-color: #E2EBFA;\n",
              "      box-shadow: 0px 1px 2px rgba(60, 64, 67, 0.3), 0px 1px 3px 1px rgba(60, 64, 67, 0.15);\n",
              "      fill: #174EA6;\n",
              "    }\n",
              "\n",
              "    .colab-df-buttons div {\n",
              "      margin-bottom: 4px;\n",
              "    }\n",
              "\n",
              "    [theme=dark] .colab-df-convert {\n",
              "      background-color: #3B4455;\n",
              "      fill: #D2E3FC;\n",
              "    }\n",
              "\n",
              "    [theme=dark] .colab-df-convert:hover {\n",
              "      background-color: #434B5C;\n",
              "      box-shadow: 0px 1px 3px 1px rgba(0, 0, 0, 0.15);\n",
              "      filter: drop-shadow(0px 1px 2px rgba(0, 0, 0, 0.3));\n",
              "      fill: #FFFFFF;\n",
              "    }\n",
              "  </style>\n",
              "\n",
              "    <script>\n",
              "      const buttonEl =\n",
              "        document.querySelector('#df-3b13cd4a-adbb-4923-ad25-2d017828e275 button.colab-df-convert');\n",
              "      buttonEl.style.display =\n",
              "        google.colab.kernel.accessAllowed ? 'block' : 'none';\n",
              "\n",
              "      async function convertToInteractive(key) {\n",
              "        const element = document.querySelector('#df-3b13cd4a-adbb-4923-ad25-2d017828e275');\n",
              "        const dataTable =\n",
              "          await google.colab.kernel.invokeFunction('convertToInteractive',\n",
              "                                                    [key], {});\n",
              "        if (!dataTable) return;\n",
              "\n",
              "        const docLinkHtml = 'Like what you see? Visit the ' +\n",
              "          '<a target=\"_blank\" href=https://colab.research.google.com/notebooks/data_table.ipynb>data table notebook</a>'\n",
              "          + ' to learn more about interactive tables.';\n",
              "        element.innerHTML = '';\n",
              "        dataTable['output_type'] = 'display_data';\n",
              "        await google.colab.output.renderOutput(dataTable, element);\n",
              "        const docLink = document.createElement('div');\n",
              "        docLink.innerHTML = docLinkHtml;\n",
              "        element.appendChild(docLink);\n",
              "      }\n",
              "    </script>\n",
              "  </div>\n",
              "\n",
              "\n",
              "<div id=\"df-3b48303e-717c-4eb9-b108-a71aa47562e9\">\n",
              "  <button class=\"colab-df-quickchart\" onclick=\"quickchart('df-3b48303e-717c-4eb9-b108-a71aa47562e9')\"\n",
              "            title=\"Suggest charts.\"\n",
              "            style=\"display:none;\">\n",
              "\n",
              "<svg xmlns=\"http://www.w3.org/2000/svg\" height=\"24px\"viewBox=\"0 0 24 24\"\n",
              "     width=\"24px\">\n",
              "    <g>\n",
              "        <path d=\"M19 3H5c-1.1 0-2 .9-2 2v14c0 1.1.9 2 2 2h14c1.1 0 2-.9 2-2V5c0-1.1-.9-2-2-2zM9 17H7v-7h2v7zm4 0h-2V7h2v10zm4 0h-2v-4h2v4z\"/>\n",
              "    </g>\n",
              "</svg>\n",
              "  </button>\n",
              "\n",
              "<style>\n",
              "  .colab-df-quickchart {\n",
              "    background-color: #E8F0FE;\n",
              "    border: none;\n",
              "    border-radius: 50%;\n",
              "    cursor: pointer;\n",
              "    display: none;\n",
              "    fill: #1967D2;\n",
              "    height: 32px;\n",
              "    padding: 0 0 0 0;\n",
              "    width: 32px;\n",
              "  }\n",
              "\n",
              "  .colab-df-quickchart:hover {\n",
              "    background-color: #E2EBFA;\n",
              "    box-shadow: 0px 1px 2px rgba(60, 64, 67, 0.3), 0px 1px 3px 1px rgba(60, 64, 67, 0.15);\n",
              "    fill: #174EA6;\n",
              "  }\n",
              "\n",
              "  [theme=dark] .colab-df-quickchart {\n",
              "    background-color: #3B4455;\n",
              "    fill: #D2E3FC;\n",
              "  }\n",
              "\n",
              "  [theme=dark] .colab-df-quickchart:hover {\n",
              "    background-color: #434B5C;\n",
              "    box-shadow: 0px 1px 3px 1px rgba(0, 0, 0, 0.15);\n",
              "    filter: drop-shadow(0px 1px 2px rgba(0, 0, 0, 0.3));\n",
              "    fill: #FFFFFF;\n",
              "  }\n",
              "</style>\n",
              "\n",
              "  <script>\n",
              "    async function quickchart(key) {\n",
              "      const charts = await google.colab.kernel.invokeFunction(\n",
              "          'suggestCharts', [key], {});\n",
              "    }\n",
              "    (() => {\n",
              "      let quickchartButtonEl =\n",
              "        document.querySelector('#df-3b48303e-717c-4eb9-b108-a71aa47562e9 button');\n",
              "      quickchartButtonEl.style.display =\n",
              "        google.colab.kernel.accessAllowed ? 'block' : 'none';\n",
              "    })();\n",
              "  </script>\n",
              "</div>\n",
              "    </div>\n",
              "  </div>\n"
            ]
          },
          "metadata": {},
          "execution_count": 45
        }
      ]
    },
    {
      "cell_type": "markdown",
      "source": [
        "info() method : It prints information about the DataFrame"
      ],
      "metadata": {
        "id": "vtD5tc3Rvz5-"
      }
    },
    {
      "cell_type": "code",
      "source": [
        "df.info()"
      ],
      "metadata": {
        "id": "6poJI_IUvU0K",
        "colab": {
          "base_uri": "https://localhost:8080/"
        },
        "outputId": "2106f8d4-a675-4bfd-8f67-0f1058a28b6d"
      },
      "execution_count": 46,
      "outputs": [
        {
          "output_type": "stream",
          "name": "stdout",
          "text": [
            "<class 'pandas.core.frame.DataFrame'>\n",
            "RangeIndex: 1156 entries, 0 to 1155\n",
            "Data columns (total 7 columns):\n",
            " #   Column      Non-Null Count  Dtype  \n",
            "---  ------      --------------  -----  \n",
            " 0   START_DATE  1156 non-null   object \n",
            " 1   END_DATE    1155 non-null   object \n",
            " 2   CATEGORY    1155 non-null   object \n",
            " 3   START       1155 non-null   object \n",
            " 4   STOP        1155 non-null   object \n",
            " 5   MILES       1156 non-null   float64\n",
            " 6   PURPOSE     653 non-null    object \n",
            "dtypes: float64(1), object(6)\n",
            "memory usage: 63.3+ KB\n"
          ]
        }
      ]
    },
    {
      "cell_type": "markdown",
      "source": [
        "info() method :\tIt prints information about the DataFrame"
      ],
      "metadata": {
        "id": "TW1dA0mxv8CP"
      }
    },
    {
      "cell_type": "code",
      "source": [
        "df.info()"
      ],
      "metadata": {
        "id": "6tz7HOBhvU2G",
        "colab": {
          "base_uri": "https://localhost:8080/"
        },
        "outputId": "f76d3194-40a8-40cd-f3f3-998e92cdc83e"
      },
      "execution_count": 47,
      "outputs": [
        {
          "output_type": "stream",
          "name": "stdout",
          "text": [
            "<class 'pandas.core.frame.DataFrame'>\n",
            "RangeIndex: 1156 entries, 0 to 1155\n",
            "Data columns (total 7 columns):\n",
            " #   Column      Non-Null Count  Dtype  \n",
            "---  ------      --------------  -----  \n",
            " 0   START_DATE  1156 non-null   object \n",
            " 1   END_DATE    1155 non-null   object \n",
            " 2   CATEGORY    1155 non-null   object \n",
            " 3   START       1155 non-null   object \n",
            " 4   STOP        1155 non-null   object \n",
            " 5   MILES       1156 non-null   float64\n",
            " 6   PURPOSE     653 non-null    object \n",
            "dtypes: float64(1), object(6)\n",
            "memory usage: 63.3+ KB\n"
          ]
        }
      ]
    },
    {
      "cell_type": "markdown",
      "source": [
        "df.null(): It is used to check whether the null values are present is data set or not\n",
        "df.isnull().sum(): It is used to check total number of null missing values"
      ],
      "metadata": {
        "id": "nPiqfOWexu8E"
      }
    },
    {
      "cell_type": "code",
      "source": [
        "df.isnull().sum()  #to check total number of null missing values"
      ],
      "metadata": {
        "id": "biZCKew1vU4x",
        "colab": {
          "base_uri": "https://localhost:8080/"
        },
        "outputId": "93c44257-6896-47e0-92d2-f744fc0497b5"
      },
      "execution_count": 48,
      "outputs": [
        {
          "output_type": "execute_result",
          "data": {
            "text/plain": [
              "START_DATE      0\n",
              "END_DATE        1\n",
              "CATEGORY        1\n",
              "START           1\n",
              "STOP            1\n",
              "MILES           0\n",
              "PURPOSE       503\n",
              "dtype: int64"
            ]
          },
          "metadata": {},
          "execution_count": 48
        }
      ]
    },
    {
      "cell_type": "markdown",
      "source": [
        "fillna() :It is Used to replace NULL values with the specified value\n",
        "mode() is used to fill those null values with mode value"
      ],
      "metadata": {
        "id": "hgG3zmlfx5uo"
      }
    },
    {
      "cell_type": "code",
      "source": [
        "df['END_DATE'] = df['END_DATE'].fillna(df['END_DATE'].mode()[0])"
      ],
      "metadata": {
        "id": "Lx5sYk6IvU7C"
      },
      "execution_count": 49,
      "outputs": []
    },
    {
      "cell_type": "markdown",
      "source": [
        "now check whether END_DATE has no null vlaues or not"
      ],
      "metadata": {
        "id": "eaQJS0juyXjH"
      }
    },
    {
      "cell_type": "code",
      "source": [
        "df.isnull().sum()"
      ],
      "metadata": {
        "id": "MPd0CTeevU9T",
        "colab": {
          "base_uri": "https://localhost:8080/"
        },
        "outputId": "10733b72-fde1-40fc-a13a-da26f0dae4fc"
      },
      "execution_count": 50,
      "outputs": [
        {
          "output_type": "execute_result",
          "data": {
            "text/plain": [
              "START_DATE      0\n",
              "END_DATE        0\n",
              "CATEGORY        1\n",
              "START           1\n",
              "STOP            1\n",
              "MILES           0\n",
              "PURPOSE       503\n",
              "dtype: int64"
            ]
          },
          "metadata": {},
          "execution_count": 50
        }
      ]
    },
    {
      "cell_type": "markdown",
      "source": [
        "now check whether END_DATE has no null vlaues or not"
      ],
      "metadata": {
        "id": "EPgboWjJyax-"
      }
    },
    {
      "cell_type": "code",
      "source": [
        "df.isnull().sum()"
      ],
      "metadata": {
        "id": "qQf-wxJSyFcZ",
        "colab": {
          "base_uri": "https://localhost:8080/"
        },
        "outputId": "99d70c41-5af8-48c5-ebd6-2e46b8110507"
      },
      "execution_count": 51,
      "outputs": [
        {
          "output_type": "execute_result",
          "data": {
            "text/plain": [
              "START_DATE      0\n",
              "END_DATE        0\n",
              "CATEGORY        1\n",
              "START           1\n",
              "STOP            1\n",
              "MILES           0\n",
              "PURPOSE       503\n",
              "dtype: int64"
            ]
          },
          "metadata": {},
          "execution_count": 51
        }
      ]
    },
    {
      "cell_type": "markdown",
      "source": [
        "And now Will fill all other null values"
      ],
      "metadata": {
        "id": "iKPw2A2Qyl5y"
      }
    },
    {
      "cell_type": "code",
      "source": [
        "df['START'] = df['START'].fillna(df['START'].mode()[0])"
      ],
      "metadata": {
        "id": "q2jOWNyMvU_x"
      },
      "execution_count": 52,
      "outputs": []
    },
    {
      "cell_type": "code",
      "source": [
        "df.isnull().sum()"
      ],
      "metadata": {
        "id": "TOTY_5vPvVCb",
        "colab": {
          "base_uri": "https://localhost:8080/"
        },
        "outputId": "70ae4e2c-4b74-443b-90ff-be8aec1b64de"
      },
      "execution_count": 53,
      "outputs": [
        {
          "output_type": "execute_result",
          "data": {
            "text/plain": [
              "START_DATE      0\n",
              "END_DATE        0\n",
              "CATEGORY        1\n",
              "START           0\n",
              "STOP            1\n",
              "MILES           0\n",
              "PURPOSE       503\n",
              "dtype: int64"
            ]
          },
          "metadata": {},
          "execution_count": 53
        }
      ]
    },
    {
      "cell_type": "markdown",
      "source": [
        "Checking unique values in column PURPOSE"
      ],
      "metadata": {
        "id": "_XMweZB9ysVk"
      }
    },
    {
      "cell_type": "code",
      "source": [
        "df['PURPOSE'].value_counts()"
      ],
      "metadata": {
        "id": "i_n-zHdkvVFf",
        "colab": {
          "base_uri": "https://localhost:8080/"
        },
        "outputId": "5adcb297-f6ef-4d0a-c0ba-e92d315a0742"
      },
      "execution_count": 54,
      "outputs": [
        {
          "output_type": "execute_result",
          "data": {
            "text/plain": [
              "Meeting            187\n",
              "Meal/Entertain     160\n",
              "Errand/Supplies    128\n",
              "Customer Visit     101\n",
              "Temporary Site      50\n",
              "Between Offices     18\n",
              "Moving               4\n",
              "Airport/Travel       3\n",
              "Charity ($)          1\n",
              "Commute              1\n",
              "Name: PURPOSE, dtype: int64"
            ]
          },
          "metadata": {},
          "execution_count": 54
        }
      ]
    },
    {
      "cell_type": "code",
      "source": [
        "df['STOP'] =df ['STOP'].fillna(df['START'].mode()[0])"
      ],
      "metadata": {
        "id": "QEaunkYZyxVP"
      },
      "execution_count": 55,
      "outputs": []
    },
    {
      "cell_type": "code",
      "source": [
        "df['CATEGORY'] = df['CATEGORY'].fillna(df['CATEGORY'].mode()[0])"
      ],
      "metadata": {
        "id": "ui7pUr6nyxX3"
      },
      "execution_count": 56,
      "outputs": []
    },
    {
      "cell_type": "code",
      "source": [
        "df['PURPOSE']= df['PURPOSE'].fillna(df['PURPOSE'].mode()[0])"
      ],
      "metadata": {
        "id": "yHQhNH6Xyxa2"
      },
      "execution_count": 57,
      "outputs": []
    },
    {
      "cell_type": "code",
      "source": [
        "df.isnull().sum()"
      ],
      "metadata": {
        "colab": {
          "base_uri": "https://localhost:8080/"
        },
        "id": "a1upbfHeyxeA",
        "outputId": "bc30d84c-9a22-4d17-a64d-7ab80f5625dc"
      },
      "execution_count": 58,
      "outputs": [
        {
          "output_type": "execute_result",
          "data": {
            "text/plain": [
              "START_DATE    0\n",
              "END_DATE      0\n",
              "CATEGORY      0\n",
              "START         0\n",
              "STOP          0\n",
              "MILES         0\n",
              "PURPOSE       0\n",
              "dtype: int64"
            ]
          },
          "metadata": {},
          "execution_count": 58
        }
      ]
    },
    {
      "cell_type": "markdown",
      "source": [
        "# Renaming Columns"
      ],
      "metadata": {
        "id": "qBo25gfvzAvv"
      }
    },
    {
      "cell_type": "code",
      "source": [
        "df.rename(columns={'START': 'START_POINT', 'STOP': 'STOP_POINT'}, inplace=True)"
      ],
      "metadata": {
        "id": "RDYEIupSyxgD"
      },
      "execution_count": 59,
      "outputs": []
    },
    {
      "cell_type": "code",
      "source": [
        "df"
      ],
      "metadata": {
        "colab": {
          "base_uri": "https://localhost:8080/",
          "height": 423
        },
        "id": "qaKEWBjbyxi4",
        "outputId": "f077602c-ed2a-4a4c-ca95-37901d360bcb"
      },
      "execution_count": 60,
      "outputs": [
        {
          "output_type": "execute_result",
          "data": {
            "text/plain": [
              "            START_DATE          END_DATE  CATEGORY       START_POINT  \\\n",
              "0     01-01-2016 21:11  01-01-2016 21:17  Business       Fort Pierce   \n",
              "1     01-02-2016 01:25  01-02-2016 01:37  Business       Fort Pierce   \n",
              "2     01-02-2016 20:25  01-02-2016 20:38  Business       Fort Pierce   \n",
              "3     01-05-2016 17:31  01-05-2016 17:45  Business       Fort Pierce   \n",
              "4     01-06-2016 14:42  01-06-2016 15:49  Business       Fort Pierce   \n",
              "...                ...               ...       ...               ...   \n",
              "1151  12/31/2016 13:24  12/31/2016 13:42  Business           Kar?chi   \n",
              "1152  12/31/2016 15:03  12/31/2016 15:38  Business  Unknown Location   \n",
              "1153  12/31/2016 21:32  12/31/2016 21:50  Business        Katunayake   \n",
              "1154  12/31/2016 22:08  12/31/2016 23:51  Business           Gampaha   \n",
              "1155            Totals   6/28/2016 23:59  Business              Cary   \n",
              "\n",
              "            STOP_POINT    MILES          PURPOSE  \n",
              "0          Fort Pierce      5.1   Meal/Entertain  \n",
              "1          Fort Pierce      5.0          Meeting  \n",
              "2          Fort Pierce      4.8  Errand/Supplies  \n",
              "3          Fort Pierce      4.7          Meeting  \n",
              "4      West Palm Beach     63.7   Customer Visit  \n",
              "...                ...      ...              ...  \n",
              "1151  Unknown Location      3.9   Temporary Site  \n",
              "1152  Unknown Location     16.2          Meeting  \n",
              "1153           Gampaha      6.4   Temporary Site  \n",
              "1154         Ilukwatta     48.2   Temporary Site  \n",
              "1155              Cary  12204.7          Meeting  \n",
              "\n",
              "[1156 rows x 7 columns]"
            ],
            "text/html": [
              "\n",
              "  <div id=\"df-cbdb3dc0-f37a-4ea2-871e-72ad3a40d199\" class=\"colab-df-container\">\n",
              "    <div>\n",
              "<style scoped>\n",
              "    .dataframe tbody tr th:only-of-type {\n",
              "        vertical-align: middle;\n",
              "    }\n",
              "\n",
              "    .dataframe tbody tr th {\n",
              "        vertical-align: top;\n",
              "    }\n",
              "\n",
              "    .dataframe thead th {\n",
              "        text-align: right;\n",
              "    }\n",
              "</style>\n",
              "<table border=\"1\" class=\"dataframe\">\n",
              "  <thead>\n",
              "    <tr style=\"text-align: right;\">\n",
              "      <th></th>\n",
              "      <th>START_DATE</th>\n",
              "      <th>END_DATE</th>\n",
              "      <th>CATEGORY</th>\n",
              "      <th>START_POINT</th>\n",
              "      <th>STOP_POINT</th>\n",
              "      <th>MILES</th>\n",
              "      <th>PURPOSE</th>\n",
              "    </tr>\n",
              "  </thead>\n",
              "  <tbody>\n",
              "    <tr>\n",
              "      <th>0</th>\n",
              "      <td>01-01-2016 21:11</td>\n",
              "      <td>01-01-2016 21:17</td>\n",
              "      <td>Business</td>\n",
              "      <td>Fort Pierce</td>\n",
              "      <td>Fort Pierce</td>\n",
              "      <td>5.1</td>\n",
              "      <td>Meal/Entertain</td>\n",
              "    </tr>\n",
              "    <tr>\n",
              "      <th>1</th>\n",
              "      <td>01-02-2016 01:25</td>\n",
              "      <td>01-02-2016 01:37</td>\n",
              "      <td>Business</td>\n",
              "      <td>Fort Pierce</td>\n",
              "      <td>Fort Pierce</td>\n",
              "      <td>5.0</td>\n",
              "      <td>Meeting</td>\n",
              "    </tr>\n",
              "    <tr>\n",
              "      <th>2</th>\n",
              "      <td>01-02-2016 20:25</td>\n",
              "      <td>01-02-2016 20:38</td>\n",
              "      <td>Business</td>\n",
              "      <td>Fort Pierce</td>\n",
              "      <td>Fort Pierce</td>\n",
              "      <td>4.8</td>\n",
              "      <td>Errand/Supplies</td>\n",
              "    </tr>\n",
              "    <tr>\n",
              "      <th>3</th>\n",
              "      <td>01-05-2016 17:31</td>\n",
              "      <td>01-05-2016 17:45</td>\n",
              "      <td>Business</td>\n",
              "      <td>Fort Pierce</td>\n",
              "      <td>Fort Pierce</td>\n",
              "      <td>4.7</td>\n",
              "      <td>Meeting</td>\n",
              "    </tr>\n",
              "    <tr>\n",
              "      <th>4</th>\n",
              "      <td>01-06-2016 14:42</td>\n",
              "      <td>01-06-2016 15:49</td>\n",
              "      <td>Business</td>\n",
              "      <td>Fort Pierce</td>\n",
              "      <td>West Palm Beach</td>\n",
              "      <td>63.7</td>\n",
              "      <td>Customer Visit</td>\n",
              "    </tr>\n",
              "    <tr>\n",
              "      <th>...</th>\n",
              "      <td>...</td>\n",
              "      <td>...</td>\n",
              "      <td>...</td>\n",
              "      <td>...</td>\n",
              "      <td>...</td>\n",
              "      <td>...</td>\n",
              "      <td>...</td>\n",
              "    </tr>\n",
              "    <tr>\n",
              "      <th>1151</th>\n",
              "      <td>12/31/2016 13:24</td>\n",
              "      <td>12/31/2016 13:42</td>\n",
              "      <td>Business</td>\n",
              "      <td>Kar?chi</td>\n",
              "      <td>Unknown Location</td>\n",
              "      <td>3.9</td>\n",
              "      <td>Temporary Site</td>\n",
              "    </tr>\n",
              "    <tr>\n",
              "      <th>1152</th>\n",
              "      <td>12/31/2016 15:03</td>\n",
              "      <td>12/31/2016 15:38</td>\n",
              "      <td>Business</td>\n",
              "      <td>Unknown Location</td>\n",
              "      <td>Unknown Location</td>\n",
              "      <td>16.2</td>\n",
              "      <td>Meeting</td>\n",
              "    </tr>\n",
              "    <tr>\n",
              "      <th>1153</th>\n",
              "      <td>12/31/2016 21:32</td>\n",
              "      <td>12/31/2016 21:50</td>\n",
              "      <td>Business</td>\n",
              "      <td>Katunayake</td>\n",
              "      <td>Gampaha</td>\n",
              "      <td>6.4</td>\n",
              "      <td>Temporary Site</td>\n",
              "    </tr>\n",
              "    <tr>\n",
              "      <th>1154</th>\n",
              "      <td>12/31/2016 22:08</td>\n",
              "      <td>12/31/2016 23:51</td>\n",
              "      <td>Business</td>\n",
              "      <td>Gampaha</td>\n",
              "      <td>Ilukwatta</td>\n",
              "      <td>48.2</td>\n",
              "      <td>Temporary Site</td>\n",
              "    </tr>\n",
              "    <tr>\n",
              "      <th>1155</th>\n",
              "      <td>Totals</td>\n",
              "      <td>6/28/2016 23:59</td>\n",
              "      <td>Business</td>\n",
              "      <td>Cary</td>\n",
              "      <td>Cary</td>\n",
              "      <td>12204.7</td>\n",
              "      <td>Meeting</td>\n",
              "    </tr>\n",
              "  </tbody>\n",
              "</table>\n",
              "<p>1156 rows × 7 columns</p>\n",
              "</div>\n",
              "    <div class=\"colab-df-buttons\">\n",
              "\n",
              "  <div class=\"colab-df-container\">\n",
              "    <button class=\"colab-df-convert\" onclick=\"convertToInteractive('df-cbdb3dc0-f37a-4ea2-871e-72ad3a40d199')\"\n",
              "            title=\"Convert this dataframe to an interactive table.\"\n",
              "            style=\"display:none;\">\n",
              "\n",
              "  <svg xmlns=\"http://www.w3.org/2000/svg\" height=\"24px\" viewBox=\"0 -960 960 960\">\n",
              "    <path d=\"M120-120v-720h720v720H120Zm60-500h600v-160H180v160Zm220 220h160v-160H400v160Zm0 220h160v-160H400v160ZM180-400h160v-160H180v160Zm440 0h160v-160H620v160ZM180-180h160v-160H180v160Zm440 0h160v-160H620v160Z\"/>\n",
              "  </svg>\n",
              "    </button>\n",
              "\n",
              "  <style>\n",
              "    .colab-df-container {\n",
              "      display:flex;\n",
              "      gap: 12px;\n",
              "    }\n",
              "\n",
              "    .colab-df-convert {\n",
              "      background-color: #E8F0FE;\n",
              "      border: none;\n",
              "      border-radius: 50%;\n",
              "      cursor: pointer;\n",
              "      display: none;\n",
              "      fill: #1967D2;\n",
              "      height: 32px;\n",
              "      padding: 0 0 0 0;\n",
              "      width: 32px;\n",
              "    }\n",
              "\n",
              "    .colab-df-convert:hover {\n",
              "      background-color: #E2EBFA;\n",
              "      box-shadow: 0px 1px 2px rgba(60, 64, 67, 0.3), 0px 1px 3px 1px rgba(60, 64, 67, 0.15);\n",
              "      fill: #174EA6;\n",
              "    }\n",
              "\n",
              "    .colab-df-buttons div {\n",
              "      margin-bottom: 4px;\n",
              "    }\n",
              "\n",
              "    [theme=dark] .colab-df-convert {\n",
              "      background-color: #3B4455;\n",
              "      fill: #D2E3FC;\n",
              "    }\n",
              "\n",
              "    [theme=dark] .colab-df-convert:hover {\n",
              "      background-color: #434B5C;\n",
              "      box-shadow: 0px 1px 3px 1px rgba(0, 0, 0, 0.15);\n",
              "      filter: drop-shadow(0px 1px 2px rgba(0, 0, 0, 0.3));\n",
              "      fill: #FFFFFF;\n",
              "    }\n",
              "  </style>\n",
              "\n",
              "    <script>\n",
              "      const buttonEl =\n",
              "        document.querySelector('#df-cbdb3dc0-f37a-4ea2-871e-72ad3a40d199 button.colab-df-convert');\n",
              "      buttonEl.style.display =\n",
              "        google.colab.kernel.accessAllowed ? 'block' : 'none';\n",
              "\n",
              "      async function convertToInteractive(key) {\n",
              "        const element = document.querySelector('#df-cbdb3dc0-f37a-4ea2-871e-72ad3a40d199');\n",
              "        const dataTable =\n",
              "          await google.colab.kernel.invokeFunction('convertToInteractive',\n",
              "                                                    [key], {});\n",
              "        if (!dataTable) return;\n",
              "\n",
              "        const docLinkHtml = 'Like what you see? Visit the ' +\n",
              "          '<a target=\"_blank\" href=https://colab.research.google.com/notebooks/data_table.ipynb>data table notebook</a>'\n",
              "          + ' to learn more about interactive tables.';\n",
              "        element.innerHTML = '';\n",
              "        dataTable['output_type'] = 'display_data';\n",
              "        await google.colab.output.renderOutput(dataTable, element);\n",
              "        const docLink = document.createElement('div');\n",
              "        docLink.innerHTML = docLinkHtml;\n",
              "        element.appendChild(docLink);\n",
              "      }\n",
              "    </script>\n",
              "  </div>\n",
              "\n",
              "\n",
              "<div id=\"df-fb2e0cc6-2326-4285-9864-e81a991b3ab2\">\n",
              "  <button class=\"colab-df-quickchart\" onclick=\"quickchart('df-fb2e0cc6-2326-4285-9864-e81a991b3ab2')\"\n",
              "            title=\"Suggest charts.\"\n",
              "            style=\"display:none;\">\n",
              "\n",
              "<svg xmlns=\"http://www.w3.org/2000/svg\" height=\"24px\"viewBox=\"0 0 24 24\"\n",
              "     width=\"24px\">\n",
              "    <g>\n",
              "        <path d=\"M19 3H5c-1.1 0-2 .9-2 2v14c0 1.1.9 2 2 2h14c1.1 0 2-.9 2-2V5c0-1.1-.9-2-2-2zM9 17H7v-7h2v7zm4 0h-2V7h2v10zm4 0h-2v-4h2v4z\"/>\n",
              "    </g>\n",
              "</svg>\n",
              "  </button>\n",
              "\n",
              "<style>\n",
              "  .colab-df-quickchart {\n",
              "    background-color: #E8F0FE;\n",
              "    border: none;\n",
              "    border-radius: 50%;\n",
              "    cursor: pointer;\n",
              "    display: none;\n",
              "    fill: #1967D2;\n",
              "    height: 32px;\n",
              "    padding: 0 0 0 0;\n",
              "    width: 32px;\n",
              "  }\n",
              "\n",
              "  .colab-df-quickchart:hover {\n",
              "    background-color: #E2EBFA;\n",
              "    box-shadow: 0px 1px 2px rgba(60, 64, 67, 0.3), 0px 1px 3px 1px rgba(60, 64, 67, 0.15);\n",
              "    fill: #174EA6;\n",
              "  }\n",
              "\n",
              "  [theme=dark] .colab-df-quickchart {\n",
              "    background-color: #3B4455;\n",
              "    fill: #D2E3FC;\n",
              "  }\n",
              "\n",
              "  [theme=dark] .colab-df-quickchart:hover {\n",
              "    background-color: #434B5C;\n",
              "    box-shadow: 0px 1px 3px 1px rgba(0, 0, 0, 0.15);\n",
              "    filter: drop-shadow(0px 1px 2px rgba(0, 0, 0, 0.3));\n",
              "    fill: #FFFFFF;\n",
              "  }\n",
              "</style>\n",
              "\n",
              "  <script>\n",
              "    async function quickchart(key) {\n",
              "      const charts = await google.colab.kernel.invokeFunction(\n",
              "          'suggestCharts', [key], {});\n",
              "    }\n",
              "    (() => {\n",
              "      let quickchartButtonEl =\n",
              "        document.querySelector('#df-fb2e0cc6-2326-4285-9864-e81a991b3ab2 button');\n",
              "      quickchartButtonEl.style.display =\n",
              "        google.colab.kernel.accessAllowed ? 'block' : 'none';\n",
              "    })();\n",
              "  </script>\n",
              "</div>\n",
              "    </div>\n",
              "  </div>\n"
            ]
          },
          "metadata": {},
          "execution_count": 60
        }
      ]
    },
    {
      "cell_type": "code",
      "source": [
        "# Checking data types\n",
        "df.dtypes"
      ],
      "metadata": {
        "colab": {
          "base_uri": "https://localhost:8080/"
        },
        "id": "x4tFPDdWyxme",
        "outputId": "80c86251-e623-4cc6-c55a-cea4898c253a"
      },
      "execution_count": 61,
      "outputs": [
        {
          "output_type": "execute_result",
          "data": {
            "text/plain": [
              "START_DATE      object\n",
              "END_DATE        object\n",
              "CATEGORY        object\n",
              "START_POINT     object\n",
              "STOP_POINT      object\n",
              "MILES          float64\n",
              "PURPOSE         object\n",
              "dtype: object"
            ]
          },
          "metadata": {},
          "execution_count": 61
        }
      ]
    },
    {
      "cell_type": "code",
      "source": [
        "for i in df['START_POINT'].value_counts().sort_index().index:\n",
        "    print(i)"
      ],
      "metadata": {
        "colab": {
          "base_uri": "https://localhost:8080/"
        },
        "id": "XZcezBjPzJUx",
        "outputId": "1ec0901d-4e99-425b-e3e6-a2d2fcc7becb"
      },
      "execution_count": 62,
      "outputs": [
        {
          "output_type": "stream",
          "name": "stdout",
          "text": [
            "Agnew\n",
            "Almond\n",
            "Apex\n",
            "Arabi\n",
            "Arlington\n",
            "Arlington Park at Amberly\n",
            "Asheville\n",
            "Austin\n",
            "Banner Elk\n",
            "Bellevue\n",
            "Berkeley\n",
            "Boone\n",
            "Briar Meadow\n",
            "Bryson City\n",
            "Burtrose\n",
            "CBD\n",
            "Capitol One\n",
            "Cary\n",
            "Central\n",
            "Chalmette\n",
            "Chapel Hill\n",
            "Chessington\n",
            "College Avenue\n",
            "Colombo\n",
            "Columbia Heights\n",
            "Congress Ave District\n",
            "Connecticut Avenue\n",
            "Convention Center District\n",
            "Cory\n",
            "Couples Glen\n",
            "Covington\n",
            "Coxville\n",
            "Daytona Beach\n",
            "Downtown\n",
            "Durham\n",
            "Eagan Park\n",
            "Eagle Rock\n",
            "East Austin\n",
            "East Elmhurst\n",
            "East Harlem\n",
            "Eastgate\n",
            "Edgehill Farms\n",
            "El Cerrito\n",
            "Elk Park\n",
            "Elmhurst\n",
            "Emeryville\n",
            "Fairmont\n",
            "Farmington Woods\n",
            "Fayetteville Street\n",
            "Financial District\n",
            "Flatiron District\n",
            "Florence\n",
            "Fort Pierce\n",
            "Fuquay-Varina\n",
            "Galveston\n",
            "Gampaha\n",
            "Georgian Acres\n",
            "Gulfton\n",
            "Hayesville\n",
            "Hazelwood\n",
            "Hell's Kitchen\n",
            "Heritage Pines\n",
            "Holly Springs\n",
            "Houston\n",
            "Hudson Square\n",
            "Huntington Woods\n",
            "Ingleside\n",
            "Islamabad\n",
            "Jackson Heights\n",
            "Jacksonville\n",
            "Jamaica\n",
            "Jamestown Court\n",
            "K Street\n",
            "Kalorama Triangle\n",
            "Kar?chi\n",
            "Karachi\n",
            "Katunayaka\n",
            "Katunayake\n",
            "Katy\n",
            "Kenner\n",
            "Kilarney Woods\n",
            "Kissimmee\n",
            "Krendle Woods\n",
            "Lahore\n",
            "Lake Reams\n",
            "Lake Wellingborough\n",
            "Lakeview\n",
            "Latta\n",
            "Lexington Park at Amberly\n",
            "Long Island City\n",
            "Lower Garden District\n",
            "Lower Manhattan\n",
            "Mandeville\n",
            "Marigny\n",
            "Mcvan\n",
            "Mebane\n",
            "Medical Centre\n",
            "Menlo Park\n",
            "Meredith\n",
            "Meredith Townes\n",
            "Metairie\n",
            "Midtown\n",
            "Midtown East\n",
            "Morrisville\n",
            "Mountain View\n",
            "NOMA\n",
            "New Orleans\n",
            "New York\n",
            "Newark\n",
            "Newland\n",
            "Noorpur Shahan\n",
            "North Austin\n",
            "North Berkeley Hills\n",
            "Northwoods\n",
            "Nugegoda\n",
            "Oakland\n",
            "Old City\n",
            "Orlando\n",
            "Palo Alto\n",
            "Parkway\n",
            "Parkwood\n",
            "Pontchartrain Beach\n",
            "Pontchartrain Shores\n",
            "Port Bolivar\n",
            "Preston\n",
            "R?walpindi\n",
            "Raleigh\n",
            "Rawalpindi\n",
            "Red River District\n",
            "Redmond\n",
            "Renaissance\n",
            "Ridgeland\n",
            "Rose Hill\n",
            "SOMISSPO\n",
            "San Francisco\n",
            "San Jose\n",
            "Sand Lake Commons\n",
            "Santa Clara\n",
            "Savon Height\n",
            "Seaport\n",
            "Seattle\n",
            "Sharpstown\n",
            "Sky Lake\n",
            "Soho\n",
            "South\n",
            "South Berkeley\n",
            "South Congress\n",
            "Southside\n",
            "St Thomas\n",
            "Stonewater\n",
            "Storyville\n",
            "Sugar Land\n",
            "Summerwinds\n",
            "Sunnyside\n",
            "Sunnyvale\n",
            "Tanglewood\n",
            "Tenderloin\n",
            "The Drag\n",
            "Topton\n",
            "Townes at Everett Crossing\n",
            "Tribeca\n",
            "University District\n",
            "Unknown Location\n",
            "Wake Co.\n",
            "Wake Forest\n",
            "Washington\n",
            "Washington Avenue\n",
            "Waverly Place\n",
            "Wayne Ridge\n",
            "West Berkeley\n",
            "West End\n",
            "West Palm Beach\n",
            "West University\n",
            "Weston\n",
            "Westpark Place\n",
            "Whitebridge\n",
            "Winston Salem\n"
          ]
        }
      ]
    },
    {
      "cell_type": "code",
      "source": [
        "# Let's see how much of this inconsistent data\n",
        "incons_data = ['Kar?chi', 'Katunayaka', 'Pontchartrain Shores', 'R?walpindi']\n",
        "df.loc[df['START_POINT'].isin(incons_data), 'START_POINT'].value_counts()"
      ],
      "metadata": {
        "colab": {
          "base_uri": "https://localhost:8080/"
        },
        "id": "3Y1TDXZWzJW4",
        "outputId": "f3d125c8-eb58-49e9-e3e2-6f15a9b7958d"
      },
      "execution_count": 63,
      "outputs": [
        {
          "output_type": "execute_result",
          "data": {
            "text/plain": [
              "Kar?chi                 27\n",
              "R?walpindi              11\n",
              "Katunayaka               2\n",
              "Pontchartrain Shores     2\n",
              "Name: START_POINT, dtype: int64"
            ]
          },
          "metadata": {},
          "execution_count": 63
        }
      ]
    },
    {
      "cell_type": "code",
      "source": [
        "# Consistening values in the START_POINT column\n",
        "df['START_POINT'].replace({\n",
        "    'Kar?chi': 'Karachi',\n",
        "    'Katunayaka': 'Katunayake',\n",
        "    'Pontchartrain Shores': 'Pontchartrain Beach',\n",
        "    'R?walpindi': 'Rawalpindi'\n",
        "}, inplace=True)"
      ],
      "metadata": {
        "id": "m7HJe_e-zJZv"
      },
      "execution_count": 64,
      "outputs": []
    },
    {
      "cell_type": "code",
      "source": [
        "# Checking data\n",
        "df['START_POINT'].isin(incons_data).sum()"
      ],
      "metadata": {
        "colab": {
          "base_uri": "https://localhost:8080/"
        },
        "id": "KQ_xB53fzJc8",
        "outputId": "fc26c583-93d0-4bb2-cc34-b010df8f0cf4"
      },
      "execution_count": 65,
      "outputs": [
        {
          "output_type": "execute_result",
          "data": {
            "text/plain": [
              "0"
            ]
          },
          "metadata": {},
          "execution_count": 65
        }
      ]
    },
    {
      "cell_type": "markdown",
      "source": [
        "Now check for STOP_POINT"
      ],
      "metadata": {
        "id": "uub_jJVEzT5G"
      }
    },
    {
      "cell_type": "code",
      "source": [
        "# Now let's see the data in the STOP_POINT column\n",
        "for i in df['STOP_POINT'].value_counts().sort_index().index:\n",
        "    print(i)"
      ],
      "metadata": {
        "colab": {
          "base_uri": "https://localhost:8080/"
        },
        "id": "qgjokZSDzJe0",
        "outputId": "50234dab-7188-4e77-97ef-f12d4aacded4"
      },
      "execution_count": 66,
      "outputs": [
        {
          "output_type": "stream",
          "name": "stdout",
          "text": [
            "Agnew\n",
            "Alief\n",
            "Almond\n",
            "Apex\n",
            "Arabi\n",
            "Arlington\n",
            "Arlington Park at Amberly\n",
            "Arts District\n",
            "Asheville\n",
            "Banner Elk\n",
            "Bay Farm Island\n",
            "Bellevue\n",
            "Berkeley\n",
            "Boone\n",
            "Briar Meadow\n",
            "Bryson City\n",
            "Burtrose\n",
            "Bywater\n",
            "CBD\n",
            "Capitol One\n",
            "Cary\n",
            "Cedar Hill\n",
            "Central\n",
            "Chalmette\n",
            "Chapel Hill\n",
            "Chessington\n",
            "College Avenue\n",
            "Colombo\n",
            "Columbia Heights\n",
            "Congress Ave District\n",
            "Convention Center District\n",
            "Cory\n",
            "Covington\n",
            "Coxville\n",
            "Daytona Beach\n",
            "Depot Historic District\n",
            "Downtown\n",
            "Durham\n",
            "Eagle Rock\n",
            "East Elmhurst\n",
            "East Harlem\n",
            "Edgehill Farms\n",
            "El Cerrito\n",
            "Elk Park\n",
            "Emeryville\n",
            "Farmington Woods\n",
            "Faubourg Marigny\n",
            "Financial District\n",
            "Florence\n",
            "Fort Pierce\n",
            "French Quarter\n",
            "Fuquay-Varina\n",
            "Galveston\n",
            "Gampaha\n",
            "Gramercy-Flatiron\n",
            "Greater Greenspoint\n",
            "Gulfton\n",
            "Harden Place\n",
            "Hayesville\n",
            "Hazelwood\n",
            "Hell's Kitchen\n",
            "Heritage Pines\n",
            "Hog Island\n",
            "Holly Springs\n",
            "Houston\n",
            "Hudson Square\n",
            "Huntington Woods\n",
            "Ilukwatta\n",
            "Ingleside\n",
            "Islamabad\n",
            "Isles of Buena Vista\n",
            "Jackson Heights\n",
            "Jacksonville\n",
            "Jamaica\n",
            "Jamestown Court\n",
            "K Street\n",
            "Kalorama Triangle\n",
            "Kar?chi\n",
            "Karachi\n",
            "Katunayaka\n",
            "Katy\n",
            "Kenner\n",
            "Kilarney Woods\n",
            "Kildaire Farms\n",
            "Kips Bay\n",
            "Kissimmee\n",
            "Lahore\n",
            "Lake Reams\n",
            "Lake Wellingborough\n",
            "Lakeview\n",
            "Latta\n",
            "Leesville Hollow\n",
            "Lexington Park at Amberly\n",
            "Long Island City\n",
            "Lower Garden District\n",
            "Lower Manhattan\n",
            "Macgregor Downs\n",
            "Mandeville\n",
            "Marigny\n",
            "Mcvan\n",
            "Mebane\n",
            "Menlo Park\n",
            "Meredith Townes\n",
            "Metairie\n",
            "Midtown\n",
            "Midtown East\n",
            "Midtown West\n",
            "Morrisville\n",
            "Mountain View\n",
            "New Orleans\n",
            "New York\n",
            "Newark\n",
            "Newland\n",
            "NoMad\n",
            "Noorpur Shahan\n",
            "North Austin\n",
            "North Berkeley Hills\n",
            "Northwest Rectangle\n",
            "Northwoods\n",
            "Nugegoda\n",
            "Oakland\n",
            "Orlando\n",
            "Palm Beach\n",
            "Palo Alto\n",
            "Parkway\n",
            "Parkway Museums\n",
            "Parkwood\n",
            "Pontchartrain Beach\n",
            "Pontchartrain Shores\n",
            "Port Bolivar\n",
            "Potrero Flats\n",
            "Preston\n",
            "Queens\n",
            "Queens County\n",
            "R?walpindi\n",
            "Raleigh\n",
            "Rawalpindi\n",
            "Red River District\n",
            "Redmond\n",
            "Renaissance\n",
            "Ridgeland\n",
            "SOMISSPO\n",
            "San Francisco\n",
            "San Jose\n",
            "Sand Lake Commons\n",
            "Santa Clara\n",
            "Savon Height\n",
            "Seattle\n",
            "Sharpstown\n",
            "Sky Lake\n",
            "Soho\n",
            "South\n",
            "South Berkeley\n",
            "South Congress\n",
            "Southside\n",
            "Southwest Berkeley\n",
            "St Thomas\n",
            "Stonewater\n",
            "Storyville\n",
            "Sugar Land\n",
            "Summerwinds\n",
            "Sunnyside\n",
            "Sunnyvale\n",
            "Tanglewood\n",
            "Tenderloin\n",
            "The Drag\n",
            "Topton\n",
            "Tribeca\n",
            "Tudor City\n",
            "Umstead\n",
            "University District\n",
            "Unknown Location\n",
            "Vista East\n",
            "Wake Co.\n",
            "Wake Forest\n",
            "Walnut Terrace\n",
            "Washington\n",
            "Washington Avenue\n",
            "Waverly Place\n",
            "Wayne Ridge\n",
            "West Berkeley\n",
            "West Palm Beach\n",
            "West University\n",
            "Weston\n",
            "Westpark Place\n",
            "Whitebridge\n",
            "Williamsburg Manor\n",
            "Winston Salem\n"
          ]
        }
      ]
    },
    {
      "cell_type": "markdown",
      "source": [
        "In the STOP_POINT column, these values below are inconsistent. They supposed to be one value because they refer to the same location.\n",
        "\n",
        "Kar?chi and Karachi supposed to be Karachi (city in Pakistan)\n",
        "Katunayaka supposed to be Katunayake (International airport in Sri Lanka)\n",
        "Pontchartrain Beach and Pontchartrain Shores refers to a highly close location and therefore can be merged to one values, and that is Pontchartrain Beach (Amusment park in the U.S.)\n",
        "R?walpindi and Rawalpindi supposed to be Rawalpindi"
      ],
      "metadata": {
        "id": "b72BMY_ZzY_L"
      }
    },
    {
      "cell_type": "code",
      "source": [
        "# Let's see how much of this inconsistent data\n",
        "incons_data = ['Kar?chi', 'Katunayaka', 'Pontchartrain Shores', 'R?walpindi']\n",
        "df.loc[df['STOP_POINT'].isin(incons_data), 'STOP_POINT'].value_counts()\n"
      ],
      "metadata": {
        "colab": {
          "base_uri": "https://localhost:8080/"
        },
        "id": "HEbhXXugzJim",
        "outputId": "2b99a7a9-c09a-4905-fadb-d5c28f16b635"
      },
      "execution_count": 67,
      "outputs": [
        {
          "output_type": "execute_result",
          "data": {
            "text/plain": [
              "Kar?chi                 26\n",
              "R?walpindi              13\n",
              "Katunayaka               2\n",
              "Pontchartrain Shores     2\n",
              "Name: STOP_POINT, dtype: int64"
            ]
          },
          "metadata": {},
          "execution_count": 67
        }
      ]
    },
    {
      "cell_type": "code",
      "source": [
        "# Consistening values in the STOP_POINT column\n",
        "df['STOP_POINT'].replace({\n",
        "    'Kar?chi': 'Karachi',\n",
        "    'Katunayaka': 'Katunayake',\n",
        "    'Pontchartrain Shores': 'Pontchartrain Beach',\n",
        "    'R?walpindi': 'Rawalpindi'\n",
        "}, inplace=True)"
      ],
      "metadata": {
        "id": "lMn8d1v_zbuR"
      },
      "execution_count": 68,
      "outputs": []
    },
    {
      "cell_type": "code",
      "source": [
        "# Checking data\n",
        "df['STOP_POINT'].isin(incons_data).sum()"
      ],
      "metadata": {
        "colab": {
          "base_uri": "https://localhost:8080/"
        },
        "id": "HY9Pxiavzbxl",
        "outputId": "63831faa-4ef3-4522-87a3-5f41a25bea4f"
      },
      "execution_count": 69,
      "outputs": [
        {
          "output_type": "execute_result",
          "data": {
            "text/plain": [
              "0"
            ]
          },
          "metadata": {},
          "execution_count": 69
        }
      ]
    },
    {
      "cell_type": "markdown",
      "source": [
        "# Checking outliers and anomaly (Numerical data)"
      ],
      "metadata": {
        "id": "pEOk0J46zhA6"
      }
    },
    {
      "cell_type": "code",
      "source": [
        "# Checking data types\n",
        "df.dtypes"
      ],
      "metadata": {
        "colab": {
          "base_uri": "https://localhost:8080/"
        },
        "id": "ehd6mPmJzb1y",
        "outputId": "cc52d3d4-6262-4023-ac6c-ed112d36273e"
      },
      "execution_count": 70,
      "outputs": [
        {
          "output_type": "execute_result",
          "data": {
            "text/plain": [
              "START_DATE      object\n",
              "END_DATE        object\n",
              "CATEGORY        object\n",
              "START_POINT     object\n",
              "STOP_POINT      object\n",
              "MILES          float64\n",
              "PURPOSE         object\n",
              "dtype: object"
            ]
          },
          "metadata": {},
          "execution_count": 70
        }
      ]
    },
    {
      "cell_type": "code",
      "source": [
        "df['MILES'].describe()"
      ],
      "metadata": {
        "colab": {
          "base_uri": "https://localhost:8080/"
        },
        "id": "wH9lMx-gzb6u",
        "outputId": "1e18a2d0-e695-451d-b014-32c9057b4f7c"
      },
      "execution_count": 71,
      "outputs": [
        {
          "output_type": "execute_result",
          "data": {
            "text/plain": [
              "count     1156.000000\n",
              "mean        21.115398\n",
              "std        359.299007\n",
              "min          0.500000\n",
              "25%          2.900000\n",
              "50%          6.000000\n",
              "75%         10.400000\n",
              "max      12204.700000\n",
              "Name: MILES, dtype: float64"
            ]
          },
          "metadata": {},
          "execution_count": 71
        }
      ]
    },
    {
      "cell_type": "code",
      "source": [
        "df['PURPOSE'].describe()"
      ],
      "metadata": {
        "colab": {
          "base_uri": "https://localhost:8080/"
        },
        "id": "d-N-5TRJzb-B",
        "outputId": "a0f4c1e2-721d-47de-c034-4cfffa87d15b"
      },
      "execution_count": 72,
      "outputs": [
        {
          "output_type": "execute_result",
          "data": {
            "text/plain": [
              "count        1156\n",
              "unique         10\n",
              "top       Meeting\n",
              "freq          690\n",
              "Name: PURPOSE, dtype: object"
            ]
          },
          "metadata": {},
          "execution_count": 72
        }
      ]
    },
    {
      "cell_type": "code",
      "source": [
        "df['STOP_POINT'].describe()"
      ],
      "metadata": {
        "colab": {
          "base_uri": "https://localhost:8080/"
        },
        "id": "W9he2gklzcEn",
        "outputId": "d5bdb783-292e-4382-aca7-3373ee54d9f4"
      },
      "execution_count": 73,
      "outputs": [
        {
          "output_type": "execute_result",
          "data": {
            "text/plain": [
              "count     1156\n",
              "unique     185\n",
              "top       Cary\n",
              "freq       204\n",
              "Name: STOP_POINT, dtype: object"
            ]
          },
          "metadata": {},
          "execution_count": 73
        }
      ]
    },
    {
      "cell_type": "code",
      "source": [
        "df['START_POINT'].describe()"
      ],
      "metadata": {
        "colab": {
          "base_uri": "https://localhost:8080/"
        },
        "id": "g1U3MNDvzcKu",
        "outputId": "e186609d-bab4-4420-80cd-7360decfb646"
      },
      "execution_count": 74,
      "outputs": [
        {
          "output_type": "execute_result",
          "data": {
            "text/plain": [
              "count     1156\n",
              "unique     173\n",
              "top       Cary\n",
              "freq       202\n",
              "Name: START_POINT, dtype: object"
            ]
          },
          "metadata": {},
          "execution_count": 74
        }
      ]
    },
    {
      "cell_type": "code",
      "source": [
        "df['CATEGORY'].describe()"
      ],
      "metadata": {
        "colab": {
          "base_uri": "https://localhost:8080/"
        },
        "id": "R5jDCZmszcT9",
        "outputId": "1e46a594-05d8-4932-f6f6-5d8eeb46d421"
      },
      "execution_count": 75,
      "outputs": [
        {
          "output_type": "execute_result",
          "data": {
            "text/plain": [
              "count         1156\n",
              "unique           2\n",
              "top       Business\n",
              "freq          1079\n",
              "Name: CATEGORY, dtype: object"
            ]
          },
          "metadata": {},
          "execution_count": 75
        }
      ]
    },
    {
      "cell_type": "markdown",
      "source": [
        "We can see that\n",
        "\n",
        "The minimum trip distance in our dataset is 0.5 Miles\n",
        "The furthest trip is 12204.700000 Miles\n",
        "The 25th quantile is in 2.9 Miles\n",
        "The 75th quantile is in 10.4 Miles\n"
      ],
      "metadata": {
        "id": "kccU2KNUzpSA"
      }
    },
    {
      "cell_type": "markdown",
      "source": [
        " **EXPLOTARY DATA ANALYSIS**"
      ],
      "metadata": {
        "id": "hsekS0ZezrBd"
      }
    },
    {
      "cell_type": "markdown",
      "source": [
        "Will visulaize what category pepole are taking cabs frequently"
      ],
      "metadata": {
        "id": "dz2uvxf-zwJz"
      }
    },
    {
      "cell_type": "code",
      "source": [
        "import matplotlib.pyplot as plt\n",
        "plt.figure(figsize=(5,5))#fig size\n",
        "df_corel=df.corr()\n",
        "sns.heatmap(df_corel,annot=True)"
      ],
      "metadata": {
        "colab": {
          "base_uri": "https://localhost:8080/",
          "height": 523
        },
        "id": "dY8NFWkwzxz6",
        "outputId": "5c9ab7fd-ff09-4dd8-cbee-79daf695e3bf"
      },
      "execution_count": 76,
      "outputs": [
        {
          "output_type": "stream",
          "name": "stderr",
          "text": [
            "<ipython-input-76-8f02b2c185d4>:3: FutureWarning: The default value of numeric_only in DataFrame.corr is deprecated. In a future version, it will default to False. Select only valid columns or specify the value of numeric_only to silence this warning.\n",
            "  df_corel=df.corr()\n"
          ]
        },
        {
          "output_type": "execute_result",
          "data": {
            "text/plain": [
              "<Axes: >"
            ]
          },
          "metadata": {},
          "execution_count": 76
        },
        {
          "output_type": "display_data",
          "data": {
            "text/plain": [
              "<Figure size 500x500 with 2 Axes>"
            ],
            "image/png": "[encoded data removed]"
          },
          "metadata": {}
        }
      ]
    },
    {
      "cell_type": "code",
      "source": [
        "df['CATEGORY'].hist(bins=20) #visulizing data in form of Histogram"
      ],
      "metadata": {
        "colab": {
          "base_uri": "https://localhost:8080/",
          "height": 447
        },
        "id": "-zGFzkOizx5f",
        "outputId": "1694e928-9d33-47b0-d376-760b41fe0f36"
      },
      "execution_count": 77,
      "outputs": [
        {
          "output_type": "execute_result",
          "data": {
            "text/plain": [
              "<Axes: >"
            ]
          },
          "metadata": {},
          "execution_count": 77
        },
        {
          "output_type": "display_data",
          "data": {
            "text/plain": [
              "<Figure size 640x480 with 1 Axes>"
            ],
            "image/png": "[encoded data removed]"
          },
          "metadata": {}
        }
      ]
    },
    {
      "cell_type": "code",
      "source": [
        "import matplotlib.pyplot as plt\n",
        "import seaborn as sns\n",
        "print(\"MILES:: \")\n",
        "sns.countplot(x='CATEGORY', data=df, palette = \"Set1\")"
      ],
      "metadata": {
        "colab": {
          "base_uri": "https://localhost:8080/",
          "height": 484
        },
        "id": "grSPgqZnzx8H",
        "outputId": "1ed4bb79-0d21-4571-fb97-10bcae0dc312"
      },
      "execution_count": 78,
      "outputs": [
        {
          "output_type": "stream",
          "name": "stdout",
          "text": [
            "MILES:: \n"
          ]
        },
        {
          "output_type": "execute_result",
          "data": {
            "text/plain": [
              "<Axes: xlabel='CATEGORY', ylabel='count'>"
            ]
          },
          "metadata": {},
          "execution_count": 78
        },
        {
          "output_type": "display_data",
          "data": {
            "text/plain": [
              "<Figure size 640x480 with 1 Axes>"
            ],
            "image/png": "[encoded data removed]"
          },
          "metadata": {}
        }
      ]
    },
    {
      "cell_type": "code",
      "source": [
        "print(\"PURPOSE:: \")\n",
        "sns.countplot(x='PURPOSE', data=df, palette = \"Set1\")"
      ],
      "metadata": {
        "colab": {
          "base_uri": "https://localhost:8080/",
          "height": 484
        },
        "id": "dAROSFudzx-x",
        "outputId": "d5ce72b8-b6f8-4c6e-d8fd-3639ea3be16c"
      },
      "execution_count": 79,
      "outputs": [
        {
          "output_type": "stream",
          "name": "stdout",
          "text": [
            "PURPOSE:: \n"
          ]
        },
        {
          "output_type": "execute_result",
          "data": {
            "text/plain": [
              "<Axes: xlabel='PURPOSE', ylabel='count'>"
            ]
          },
          "metadata": {},
          "execution_count": 79
        },
        {
          "output_type": "display_data",
          "data": {
            "text/plain": [
              "<Figure size 640x480 with 1 Axes>"
            ],
            "image/png": "[encoded data removed]"
          },
          "metadata": {}
        }
      ]
    },
    {
      "cell_type": "code",
      "source": [
        "len(df['PURPOSE'].value_counts())"
      ],
      "metadata": {
        "colab": {
          "base_uri": "https://localhost:8080/"
        },
        "id": "Nd5z33_pzyB4",
        "outputId": "ffeab0ce-1f0d-4277-92dc-8204c2b6a860"
      },
      "execution_count": 80,
      "outputs": [
        {
          "output_type": "execute_result",
          "data": {
            "text/plain": [
              "10"
            ]
          },
          "metadata": {},
          "execution_count": 80
        }
      ]
    },
    {
      "cell_type": "code",
      "source": [
        "# Creating figure and axes object\n",
        "fig, axs = plt.subplots(nrows = 5, ncols = 2, figsize = (12,11))\n",
        "\n",
        "# Flatten the axs array\n",
        "axs = axs.flatten()\n",
        "\n",
        "# Extracting PURPOSE column categories\n",
        "cat = df['PURPOSE'].unique()\n",
        "\n",
        "# Zipping ax and categories\n",
        "pair = tuple(zip(axs, cat))\n",
        "\n",
        "# Plotting\n",
        "for ax, cat in pair:\n",
        "    if type(cat) == float:\n",
        "        continue\n",
        "    else:\n",
        "        data = df.groupby(['PURPOSE', 'START_POINT']).size().reset_index(name='count').sort_values(by='count', ascending = False)\n",
        "        sns.barplot(\n",
        "            data = data.loc[data['PURPOSE'] == cat].head(5),\n",
        "            x = 'START_POINT',\n",
        "            y = 'count',\n",
        "            ax = ax\n",
        "        )\n",
        "        ax.set_title(f'Top 5 Pick-up Spots for {cat}')\n",
        "\n",
        "plt.tight_layout()\n",
        "plt.show()"
      ],
      "metadata": {
        "colab": {
          "base_uri": "https://localhost:8080/",
          "height": 1000
        },
        "id": "-YgKtWXuzyMk",
        "outputId": "e170477b-16df-4917-e974-1357b721bdab"
      },
      "execution_count": 81,
      "outputs": [
        {
          "output_type": "display_data",
          "data": {
            "text/plain": [
              "<Figure size 1200x1100 with 10 Axes>"
            ],
            "image/png": "[encoded data removed]"
          },
          "metadata": {}
        }
      ]
    },
    {
      "cell_type": "markdown",
      "source": [
        "Is there any specific characteristic of each segment based on the travel distance?"
      ],
      "metadata": {
        "id": "rMxw-7r-0AJm"
      }
    },
    {
      "cell_type": "code",
      "source": [
        "# Copying dataframe\n",
        "avg_distance = df.copy()\n",
        "\n",
        "# Creating figure and axes object\n",
        "plt.figure(figsize=(15, 6))\n",
        "\n",
        "# Plotting\n",
        "sns.boxplot(data=avg_distance, x='MILES', y='PURPOSE')\n",
        "plt.xlabel('Travel Distance')\n",
        "plt.ylabel('Purpose')\n",
        "plt.title('Distribution of Travel Distance by Customer Segment\\n01 Jan 2016 - 31 Dec 2016')\n",
        "plt.show()"
      ],
      "metadata": {
        "colab": {
          "base_uri": "https://localhost:8080/",
          "height": 585
        },
        "id": "QZKL_yht0Che",
        "outputId": "bef5121a-c794-48ad-f1d5-4c2858da19bb"
      },
      "execution_count": 82,
      "outputs": [
        {
          "output_type": "display_data",
          "data": {
            "text/plain": [
              "<Figure size 1500x600 with 1 Axes>"
            ],
            "image/png": "[encoded data removed]"
          },
          "metadata": {}
        }
      ]
    },
    {
      "cell_type": "code",
      "source": [],
      "metadata": {
        "id": "bW1ETQ6O0CvB"
      },
      "execution_count": 82,
      "outputs": []
    },
    {
      "cell_type": "markdown",
      "source": [
        "**----END--------**"
      ],
      "metadata": {
        "id": "CB-19FNd0kJD"
      }
    },
    {
      "cell_type": "code",
      "source": [],
      "metadata": {
        "id": "E2T-gwbW0C4K"
      },
      "execution_count": 82,
      "outputs": []
    }
  ]
}